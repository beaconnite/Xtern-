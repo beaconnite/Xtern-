{
 "cells": [
  {
   "cell_type": "code",
   "execution_count": 33,
   "id": "69eec227",
   "metadata": {},
   "outputs": [],
   "source": [
    "import pandas as pd\n",
    "from sklearn.preprocessing import OneHotEncoder, LabelEncoder, StandardScaler\n",
    "\n",
    "def prepare_data(filepath):\n",
    "    \"\"\"Prepares the data for training a machine learning model.\n",
    "    \n",
    "    Args:\n",
    "    - filepath (str): Path to the CSV dataset file.\n",
    "\n",
    "    Returns:\n",
    "    - X (array-like): Processed feature matrix.\n",
    "    - y (array-like): Target vector.\n",
    "    \"\"\"\n",
    "    \n",
    "    # Load the dataset from the given filepath\n",
    "    data = pd.read_excel(\"C:\\\\Users\\\\wcp\\\\Documents\\\\filepath.xlsx\")\n",
    "    \n",
    "    # Impute missing values using forward fill\n",
    "    data.fillna(method='ffill', inplace=True)\n",
    "    \n",
    "    # One-hot encode the categorical features\n",
    "    encoder = OneHotEncoder(drop='first')\n",
    "    encoded_features = encoder.fit_transform(data[['Year', 'Major', 'University']]).toarray()\n",
    "    encoded_df = pd.DataFrame(encoded_features, columns=encoder.get_feature_names_out(['Year', 'Major', 'University']))\n",
    "    \n",
    "    # Append the encoded features to the original dataset\n",
    "    data = pd.concat([data, encoded_df], axis=1)\n",
    "    \n",
    "    # Drop the original categorical columns and the 'Order' column to create feature matrix X\n",
    "    X = data.drop(columns=['Year', 'Major', 'University', 'Order'])\n",
    "    \n",
    "    # Label encode the target variable 'Order' to create target vector y\n",
    "    le = LabelEncoder()\n",
    "    y = le.fit_transform(data['Order'])\n",
    "    \n",
    "    # Standardize the feature matrix X for better model performance\n",
    "    scaler = StandardScaler()\n",
    "    X = scaler.fit_transform(X)\n",
    "    \n",
    "    return X, y"
   ]
  },
  {
   "cell_type": "code",
   "execution_count": 34,
   "id": "df8e5279",
   "metadata": {},
   "outputs": [],
   "source": [
    "from sklearn.linear_model import LogisticRegression\n",
    "import pickle\n",
    "\n",
    "def train_and_pickle_model(X, y, model_path):\n",
    "    # Train the model\n",
    "    model = LogisticRegression(max_iter=1000)\n",
    "    model.fit(X, y)\n",
    "    \n",
    "    # Save/pickle the model\n",
    "    with open(model_path, 'wb') as f:\n",
    "        pickle.dump(model, f)\n",
    "    \n",
    "    return model\n"
   ]
  },
  {
   "cell_type": "code",
   "execution_count": 35,
   "id": "420226fe",
   "metadata": {},
   "outputs": [
    {
     "name": "stdout",
     "output_type": "stream",
     "text": [
      "Accuracy: 0.596\n",
      "\n",
      "Classification Report:\n",
      "               precision    recall  f1-score   support\n",
      "\n",
      "           0       0.55      0.44      0.49        94\n",
      "           1       0.59      0.57      0.58       112\n",
      "           2       0.66      0.51      0.58       107\n",
      "           3       0.55      0.53      0.54       103\n",
      "           4       0.56      0.60      0.58        93\n",
      "           5       0.56      0.81      0.66        84\n",
      "           6       0.63      0.85      0.72        95\n",
      "           7       0.62      0.67      0.64       110\n",
      "           8       0.57      0.46      0.51        98\n",
      "           9       0.67      0.55      0.60       104\n",
      "\n",
      "    accuracy                           0.60      1000\n",
      "   macro avg       0.60      0.60      0.59      1000\n",
      "weighted avg       0.60      0.60      0.59      1000\n",
      "\n"
     ]
    }
   ],
   "source": [
    "from sklearn.model_selection import train_test_split\n",
    "from sklearn.metrics import accuracy_score, classification_report\n",
    "\n",
    "# Using the data preparation function\n",
    "X, y = prepare_data('path_to_dataset.csv')\n",
    "\n",
    "# Split the data into training and validation sets\n",
    "X_train, X_val, y_train, y_val = train_test_split(X, y, test_size=0.2, random_state=42)\n",
    "\n",
    "# Using the model training function\n",
    "model = train_and_pickle_model(X_train, y_train, 'model.pkl')\n",
    "\n",
    "# Testing the model\n",
    "y_pred = model.predict(X_val)\n",
    "\n",
    "# Evaluate the model\n",
    "print(\"Accuracy:\", accuracy_score(y_val, y_pred))\n",
    "print(\"\\nClassification Report:\\n\", classification_report(y_val, y_pred))\n"
   ]
  },
  {
   "cell_type": "code",
   "execution_count": null,
   "id": "202fc5c6",
   "metadata": {},
   "outputs": [],
   "source": []
  }
 ],
 "metadata": {
  "kernelspec": {
   "display_name": "Python 3 (ipykernel)",
   "language": "python",
   "name": "python3"
  },
  "language_info": {
   "codemirror_mode": {
    "name": "ipython",
    "version": 3
   },
   "file_extension": ".py",
   "mimetype": "text/x-python",
   "name": "python",
   "nbconvert_exporter": "python",
   "pygments_lexer": "ipython3",
   "version": "3.10.10"
  }
 },
 "nbformat": 4,
 "nbformat_minor": 5
}
